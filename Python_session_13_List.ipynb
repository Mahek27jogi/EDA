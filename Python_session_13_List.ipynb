{
 "cells": [
  {
   "cell_type": "markdown",
   "id": "cc84e079-69ba-4a86-a769-dcde39195fb1",
   "metadata": {},
   "source": [
    "**Representation**"
   ]
  },
  {
   "cell_type": "markdown",
   "id": "36e9db46-6a4b-409c-a442-b4bc4ea868f3",
   "metadata": {},
   "source": [
    "- string representation with quotes\n",
    "- list representation with square brackets []"
   ]
  },
  {
   "cell_type": "code",
   "execution_count": 2,
   "id": "2f4354c8-10b6-411a-a295-8dde886bab41",
   "metadata": {},
   "outputs": [
    {
     "data": {
      "text/plain": [
       "[1, 2, 3, 4]"
      ]
     },
     "execution_count": 2,
     "metadata": {},
     "output_type": "execute_result"
    }
   ],
   "source": [
    "l1=[1,2,3,4]\n",
    "l1"
   ]
  },
  {
   "cell_type": "code",
   "execution_count": 3,
   "id": "20b826f4-7d51-45cb-85c6-484f91fe988c",
   "metadata": {},
   "outputs": [
    {
     "data": {
      "text/plain": [
       "list"
      ]
     },
     "execution_count": 3,
     "metadata": {},
     "output_type": "execute_result"
    }
   ],
   "source": [
    "type(l1)"
   ]
  },
  {
   "cell_type": "code",
   "execution_count": 8,
   "id": "28dab96d-a52c-4c8d-92a5-1ab16528cacd",
   "metadata": {},
   "outputs": [
    {
     "data": {
      "text/plain": [
       "['A', 'B', 'C', 'D']"
      ]
     },
     "execution_count": 8,
     "metadata": {},
     "output_type": "execute_result"
    }
   ],
   "source": [
    "l2=['A','B','C','D']\n",
    "l2"
   ]
  },
  {
   "cell_type": "code",
   "execution_count": 9,
   "id": "6c175185-a12e-44ae-b4bc-c9f94adac75a",
   "metadata": {},
   "outputs": [
    {
     "data": {
      "text/plain": [
       "['A', 'B', 'C', 'D', 1, 2, 3, 4]"
      ]
     },
     "execution_count": 9,
     "metadata": {},
     "output_type": "execute_result"
    }
   ],
   "source": [
    "l3=['A','B','C','D',1,2,3,4]\n",
    "l3"
   ]
  },
  {
   "cell_type": "code",
   "execution_count": 10,
   "id": "7ee29ba7-f708-4676-9011-59de4617da30",
   "metadata": {},
   "outputs": [
    {
     "data": {
      "text/plain": [
       "[1, 2, 3, 'Apple', 'Ball', 'Cat', True, False]"
      ]
     },
     "execution_count": 10,
     "metadata": {},
     "output_type": "execute_result"
    }
   ],
   "source": [
    "l4=[1,2,3,'Apple','Ball','Cat',True,False]\n",
    "l4"
   ]
  },
  {
   "cell_type": "code",
   "execution_count": 11,
   "id": "4a1a92a3-499d-4549-9116-49267046aa0e",
   "metadata": {},
   "outputs": [
    {
     "data": {
      "text/plain": [
       "['naresh it']"
      ]
     },
     "execution_count": 11,
     "metadata": {},
     "output_type": "execute_result"
    }
   ],
   "source": [
    "name='naresh it'\n",
    "l5=[name]\n",
    "l5"
   ]
  },
  {
   "cell_type": "code",
   "execution_count": 12,
   "id": "b3497ee1-6e61-49c4-b3b2-7b7feac1d076",
   "metadata": {},
   "outputs": [
    {
     "data": {
      "text/plain": [
       "[100, 100, 100]"
      ]
     },
     "execution_count": 12,
     "metadata": {},
     "output_type": "execute_result"
    }
   ],
   "source": [
    "l6=[100,100,100]\n",
    "l6"
   ]
  },
  {
   "cell_type": "code",
   "execution_count": 14,
   "id": "32c7c431-1371-4429-80b9-fd5dda32f2f2",
   "metadata": {},
   "outputs": [
    {
     "data": {
      "text/plain": [
       "[100, 'Apple', ['A', 2]]"
      ]
     },
     "execution_count": 14,
     "metadata": {},
     "output_type": "execute_result"
    }
   ],
   "source": [
    "l7=[100,'Apple',['A',2]]\n",
    "l7"
   ]
  },
  {
   "cell_type": "markdown",
   "id": "70ae6a52-289e-4870-942e-84535d9eaed8",
   "metadata": {},
   "source": [
    "- list are array of elements\n",
    "- list elements are heterogeneous all the data types we can represent in a list\n",
    "- list elements are allowed duplicates\n",
    "- list in list is possible\n",
    "- variable assignment also possible in the list\n"
   ]
  },
  {
   "cell_type": "code",
   "execution_count": 18,
   "id": "9e5ade4d-7a92-48fa-93e7-05ad32fedf76",
   "metadata": {},
   "outputs": [
    {
     "data": {
      "text/plain": [
       "4"
      ]
     },
     "execution_count": 18,
     "metadata": {},
     "output_type": "execute_result"
    }
   ],
   "source": [
    "l1=[1,2,3,4]\n",
    "len(l1)"
   ]
  },
  {
   "cell_type": "code",
   "execution_count": 19,
   "id": "b4c880fe-32a5-4593-ae4d-10d92766fb56",
   "metadata": {},
   "outputs": [
    {
     "data": {
      "text/plain": [
       "4"
      ]
     },
     "execution_count": 19,
     "metadata": {},
     "output_type": "execute_result"
    }
   ],
   "source": [
    "l1=[1,2,3,4]\n",
    "max(l1)"
   ]
  },
  {
   "cell_type": "code",
   "execution_count": 20,
   "id": "036ef953-5e04-4d0c-b911-d8495a485b2f",
   "metadata": {},
   "outputs": [
    {
     "data": {
      "text/plain": [
       "1"
      ]
     },
     "execution_count": 20,
     "metadata": {},
     "output_type": "execute_result"
    }
   ],
   "source": [
    "l1=[1,2,3,4]\n",
    "min(l1)"
   ]
  },
  {
   "cell_type": "code",
   "execution_count": 23,
   "id": "9729e222-9dd9-4770-9f05-68b21db10895",
   "metadata": {},
   "outputs": [
    {
     "data": {
      "text/plain": [
       "[1, 4, 5, 6, 7, 8, 9]"
      ]
     },
     "execution_count": 23,
     "metadata": {},
     "output_type": "execute_result"
    }
   ],
   "source": [
    "l1=[1,4,5,8,6,7,9]\n",
    "sorted(l1)"
   ]
  },
  {
   "cell_type": "code",
   "execution_count": 24,
   "id": "7b542b87-8990-4146-9b56-8a810294eac6",
   "metadata": {},
   "outputs": [
    {
     "data": {
      "text/plain": [
       "['apple', 'ball', 'jogi', 'mahek', 'zebra']"
      ]
     },
     "execution_count": 24,
     "metadata": {},
     "output_type": "execute_result"
    }
   ],
   "source": [
    "l1=['apple','mahek','jogi','ball','zebra']\n",
    "sorted(l1)"
   ]
  },
  {
   "cell_type": "code",
   "execution_count": 28,
   "id": "e2e2fee8-7c3a-452b-b985-005342f766ea",
   "metadata": {},
   "outputs": [
    {
     "data": {
      "text/plain": [
       "3"
      ]
     },
     "execution_count": 28,
     "metadata": {},
     "output_type": "execute_result"
    }
   ],
   "source": [
    "list1=['Apple',1,['cherry','banana']]\n",
    "len(list1)"
   ]
  },
  {
   "cell_type": "code",
   "execution_count": 29,
   "id": "bc30e9fc-bb9f-487b-8076-b4dcedaa3a33",
   "metadata": {},
   "outputs": [
    {
     "ename": "NameError",
     "evalue": "name 'A' is not defined",
     "output_type": "error",
     "traceback": [
      "\u001b[1;31m---------------------------------------------------------------------------\u001b[0m",
      "\u001b[1;31mNameError\u001b[0m                                 Traceback (most recent call last)",
      "Cell \u001b[1;32mIn[29], line 1\u001b[0m\n\u001b[1;32m----> 1\u001b[0m l1\u001b[38;5;241m=\u001b[39m[\u001b[38;5;241m1\u001b[39m,\u001b[38;5;241m2\u001b[39m,\u001b[38;5;241m3\u001b[39m,\u001b[38;5;241m4\u001b[39m,A,B]\n\u001b[0;32m      2\u001b[0m \u001b[38;5;28mmax\u001b[39m(l1)\n",
      "\u001b[1;31mNameError\u001b[0m: name 'A' is not defined"
     ]
    }
   ],
   "source": [
    "l1=[1,2,3,4,A,B]\n",
    "max(l1)# ERROR: SAME DATATYPE ONLY COMPARABLE\n"
   ]
  },
  {
   "cell_type": "markdown",
   "id": "ac9d2e4a-0558-40f6-bb02-55fc1c5e84f2",
   "metadata": {},
   "source": [
    "**index**"
   ]
  },
  {
   "cell_type": "code",
   "execution_count": 31,
   "id": "4672b603-92e8-4709-ad92-1a2622daf1fb",
   "metadata": {},
   "outputs": [
    {
     "data": {
      "text/plain": [
       "('Apple', 'Apple')"
      ]
     },
     "execution_count": 31,
     "metadata": {},
     "output_type": "execute_result"
    }
   ],
   "source": [
    "l4=[1,2,3,'Apple','Ball','Cat',True,False]\n",
    "l4[3],l4[-5]"
   ]
  },
  {
   "cell_type": "code",
   "execution_count": 33,
   "id": "ac9c5ff2-edfa-4ff3-a9fb-72adea6bff0b",
   "metadata": {},
   "outputs": [
    {
     "data": {
      "text/plain": [
       "1"
      ]
     },
     "execution_count": 33,
     "metadata": {},
     "output_type": "execute_result"
    }
   ],
   "source": [
    "l1=[1,[2]]\n",
    "l1[0]"
   ]
  },
  {
   "cell_type": "code",
   "execution_count": 34,
   "id": "1ea550da-16b9-4011-be87-6ba778bc3d06",
   "metadata": {},
   "outputs": [
    {
     "data": {
      "text/plain": [
       "2"
      ]
     },
     "execution_count": 34,
     "metadata": {},
     "output_type": "execute_result"
    }
   ],
   "source": [
    "l1=[1,[2]]\n",
    "new=l1[1]  \n",
    "new[0] # how????: new=l1[1]=2 then new=2 then new[0]=2"
   ]
  },
  {
   "cell_type": "code",
   "execution_count": 1,
   "id": "b1910143-a446-4ca5-9dcb-d137924ee625",
   "metadata": {},
   "outputs": [
    {
     "ename": "IndexError",
     "evalue": "list index out of range",
     "output_type": "error",
     "traceback": [
      "\u001b[1;31m---------------------------------------------------------------------------\u001b[0m",
      "\u001b[1;31mIndexError\u001b[0m                                Traceback (most recent call last)",
      "Cell \u001b[1;32mIn[1], line 2\u001b[0m\n\u001b[0;32m      1\u001b[0m l1\u001b[38;5;241m=\u001b[39m[\u001b[38;5;241m1\u001b[39m,[\u001b[38;5;241m2\u001b[39m,\u001b[38;5;124m'\u001b[39m\u001b[38;5;124mA\u001b[39m\u001b[38;5;124m'\u001b[39m]]\n\u001b[1;32m----> 2\u001b[0m l1\u001b[38;5;241m=\u001b[39m[\u001b[38;5;241m1\u001b[39m][\u001b[38;5;241m1\u001b[39m]\n",
      "\u001b[1;31mIndexError\u001b[0m: list index out of range"
     ]
    }
   ],
   "source": [
    "l1=[1,[2,'A']]\n",
    "l1=[1][1]\n",
    "# 'A' is presented at index 1\n",
    "# so we given l1[1] : [2,'A'] it is also a list\n",
    "# The list has two elements\n",
    "# 'A' at 1st index\n",
    "# l1[1][1]"
   ]
  },
  {
   "cell_type": "code",
   "execution_count": 3,
   "id": "26ec2bf7-64ae-4fa3-9b93-b29f3f7c7f88",
   "metadata": {},
   "outputs": [
    {
     "data": {
      "text/plain": [
       "'A'"
      ]
     },
     "execution_count": 3,
     "metadata": {},
     "output_type": "execute_result"
    }
   ],
   "source": [
    "# How to get 'A'\n",
    "# 1 [2,'A']\n",
    "# 0 1\n",
    "l1=[1,[2,'A']]\n",
    "# Q1) How many elements are there in a list: 2\n",
    "# Q2) 'A' is at which index : \n",
    "# In python index start at 0\n",
    "# 0 and 1\n",
    "l1[1] # [2,'A']\n",
    "# Q3) l1[1] output is which type list\n",
    "# Q4) 'A' 1\n",
    "l1[1][1]"
   ]
  },
  {
   "cell_type": "code",
   "execution_count": 8,
   "id": "0daf5270-3a15-4c99-a1ef-2bfdf7581d9b",
   "metadata": {},
   "outputs": [
    {
     "data": {
      "text/plain": [
       "'B'"
      ]
     },
     "execution_count": 8,
     "metadata": {},
     "output_type": "execute_result"
    }
   ],
   "source": [
    "l1=[1,[2,['A','B']]] #find b\n",
    "l1[1][1][1]"
   ]
  },
  {
   "cell_type": "code",
   "execution_count": 13,
   "id": "354edf0b-154c-40ee-b3a6-53239827450e",
   "metadata": {},
   "outputs": [
    {
     "data": {
      "text/plain": [
       "['Apple']"
      ]
     },
     "execution_count": 13,
     "metadata": {},
     "output_type": "execute_result"
    }
   ],
   "source": [
    "l1=[1,2,[3,[4,[5,['Apple']]]]] # find apple\n",
    "l1[2][1][1][1]"
   ]
  },
  {
   "cell_type": "code",
   "execution_count": 14,
   "id": "d85794f1-fe04-4f90-854e-864d91050cdd",
   "metadata": {},
   "outputs": [
    {
     "data": {
      "text/plain": [
       "'Banana'"
      ]
     },
     "execution_count": 14,
     "metadata": {},
     "output_type": "execute_result"
    }
   ],
   "source": [
    "list1=['Apple',\n",
    " 1,\n",
    " 'Solapur',\n",
    " ['cherry','papaya',70,[123,'Banana'],\n",
    " 'tomato'],\n",
    " 'python'] #get banana\n",
    "list1[3][3][1]"
   ]
  },
  {
   "cell_type": "code",
   "execution_count": 16,
   "id": "f50be850-73b0-437d-9bef-332e794ed4e2",
   "metadata": {},
   "outputs": [
    {
     "data": {
      "text/plain": [
       "'Banana'"
      ]
     },
     "execution_count": 16,
     "metadata": {},
     "output_type": "execute_result"
    }
   ],
   "source": [
    "list1=['Apple',1,'Solapur',['cherry','papaya',70,[123,'Banana'],'tomato'],'python'] #get banana\n",
    "list1[3][3][1]"
   ]
  },
  {
   "cell_type": "code",
   "execution_count": 36,
   "id": "5a5e0dd5-ede1-460b-923d-f690ced86401",
   "metadata": {},
   "outputs": [
    {
     "data": {
      "text/plain": [
       "'Cherry'"
      ]
     },
     "execution_count": 36,
     "metadata": {},
     "output_type": "execute_result"
    }
   ],
   "source": [
    "list1=[[[[[[[1,'Cherry']]]]]]]\n",
    "list1[0][0][0][0][0][0][1]"
   ]
  },
  {
   "cell_type": "code",
   "execution_count": 34,
   "id": "b55e40fe-10bb-4193-a261-b8c3d8e5c379",
   "metadata": {},
   "outputs": [
    {
     "data": {
      "text/plain": [
       "['shmbaji']"
      ]
     },
     "execution_count": 34,
     "metadata": {},
     "output_type": "execute_result"
    }
   ],
   "source": [
    "list1=['MH',['Nagpur',['Orange',['likes',['king'],['shivaji',['Son',['shmbaji']]]]]]]\n",
    "len(list1)\n",
    "list1[1][1][1][2][1][1]"
   ]
  },
  {
   "cell_type": "code",
   "execution_count": 37,
   "id": "b8a7fddb-6d50-4404-9102-758fadccefe1",
   "metadata": {},
   "outputs": [
    {
     "name": "stdout",
     "output_type": "stream",
     "text": [
      "1\n",
      "2\n",
      "3\n",
      "A\n",
      "B\n",
      "C\n",
      "True\n",
      "False\n"
     ]
    }
   ],
   "source": [
    "l4=[1,2,3,'A','B','C',True,False]\n",
    "#-8 -7 -6 -5 -4 -3  -2     -1\n",
    "#1 2 3 'A' 'B' 'C' True False\n",
    "#0 1 2  3   4   5    6     7\n",
    "for i in range(len(l4)):\n",
    " print(l4[i]) # it will give content"
   ]
  },
  {
   "cell_type": "code",
   "execution_count": 39,
   "id": "5a5f4efe-de2f-48c7-9e07-19a4e537c15f",
   "metadata": {},
   "outputs": [
    {
     "name": "stdout",
     "output_type": "stream",
     "text": [
      "0\n",
      "1\n",
      "2\n",
      "3\n",
      "4\n",
      "5\n",
      "6\n",
      "7\n"
     ]
    }
   ],
   "source": [
    "l4=[1,2,3,'A','B','C',True,False]\n",
    "\n",
    "for i in range(len(l4)):\n",
    " print(i) # i will give index mumber"
   ]
  },
  {
   "cell_type": "code",
   "execution_count": 40,
   "id": "029d5ed8-a30d-4aa9-a21a-0ddac6830f1e",
   "metadata": {},
   "outputs": [
    {
     "name": "stdout",
     "output_type": "stream",
     "text": [
      "The positive index of 1 is 0\n",
      "The positive index of 2 is 1\n",
      "The positive index of 3 is 2\n",
      "The positive index of A is 3\n",
      "The positive index of B is 4\n",
      "The positive index of C is 5\n",
      "The positive index of True is 6\n",
      "The positive index of False is 7\n"
     ]
    }
   ],
   "source": [
    "l4=[1,2,3,'A','B','C',True,False]\n",
    "\n",
    "for i in range(len(l4)):\n",
    " print(f\"The positive index of {l4[i]} is {i}\")"
   ]
  },
  {
   "cell_type": "code",
   "execution_count": 41,
   "id": "80199270-674c-4af4-aa61-fff7ec4e5a73",
   "metadata": {},
   "outputs": [
    {
     "name": "stdout",
     "output_type": "stream",
     "text": [
      "The negative index of 1 is -8\n",
      "The negative index of 2 is -7\n",
      "The negative index of 3 is -6\n",
      "The negative index of A is -5\n",
      "The negative index of B is -4\n",
      "The negative index of C is -3\n",
      "The negative index of True is -2\n",
      "The negative index of False is -1\n"
     ]
    }
   ],
   "source": [
    "l4=[1,2,3,'A','B','C',True,False]\n",
    "\n",
    "for i in range(len(l4)):\n",
    " print(f\"The negative index of {l4[i]} is {i-len(l4)}\")"
   ]
  },
  {
   "cell_type": "code",
   "execution_count": 42,
   "id": "7d29583f-0bd4-40d9-892a-8eb668b81852",
   "metadata": {},
   "outputs": [
    {
     "name": "stdout",
     "output_type": "stream",
     "text": [
      "The positive index of 2 is 1\n",
      "The positive index of 3 is 2\n",
      "The positive index of A is 3\n"
     ]
    },
    {
     "ename": "TypeError",
     "evalue": "list indices must be integers or slices, not str",
     "output_type": "error",
     "traceback": [
      "\u001b[1;31m---------------------------------------------------------------------------\u001b[0m",
      "\u001b[1;31mTypeError\u001b[0m                                 Traceback (most recent call last)",
      "Cell \u001b[1;32mIn[42], line 4\u001b[0m\n\u001b[0;32m      1\u001b[0m l4\u001b[38;5;241m=\u001b[39m[\u001b[38;5;241m1\u001b[39m,\u001b[38;5;241m2\u001b[39m,\u001b[38;5;241m3\u001b[39m,\u001b[38;5;124m'\u001b[39m\u001b[38;5;124mA\u001b[39m\u001b[38;5;124m'\u001b[39m,\u001b[38;5;124m'\u001b[39m\u001b[38;5;124mB\u001b[39m\u001b[38;5;124m'\u001b[39m,\u001b[38;5;124m'\u001b[39m\u001b[38;5;124mC\u001b[39m\u001b[38;5;124m'\u001b[39m,\u001b[38;5;28;01mTrue\u001b[39;00m,\u001b[38;5;28;01mFalse\u001b[39;00m]\n\u001b[0;32m      3\u001b[0m \u001b[38;5;28;01mfor\u001b[39;00m i \u001b[38;5;129;01min\u001b[39;00m l4:\n\u001b[1;32m----> 4\u001b[0m  \u001b[38;5;28mprint\u001b[39m(\u001b[38;5;124mf\u001b[39m\u001b[38;5;124m\"\u001b[39m\u001b[38;5;124mThe positive index of \u001b[39m\u001b[38;5;132;01m{\u001b[39;00ml4[i]\u001b[38;5;132;01m}\u001b[39;00m\u001b[38;5;124m is \u001b[39m\u001b[38;5;132;01m{\u001b[39;00mi\u001b[38;5;132;01m}\u001b[39;00m\u001b[38;5;124m\"\u001b[39m)\n",
      "\u001b[1;31mTypeError\u001b[0m: list indices must be integers or slices, not str"
     ]
    }
   ],
   "source": [
    "l4=[1,2,3,'A','B','C',True,False]\n",
    "\n",
    "for i in l4:\n",
    " print(f\"The positive index of {l4[i]} is {i}\")"
   ]
  },
  {
   "cell_type": "code",
   "execution_count": 43,
   "id": "170dfefd-cd75-4ec0-ab4a-cb4ac54dbbc8",
   "metadata": {},
   "outputs": [
    {
     "ename": "TypeError",
     "evalue": "'str' object does not support item assignment",
     "output_type": "error",
     "traceback": [
      "\u001b[1;31m---------------------------------------------------------------------------\u001b[0m",
      "\u001b[1;31mTypeError\u001b[0m                                 Traceback (most recent call last)",
      "Cell \u001b[1;32mIn[43], line 8\u001b[0m\n\u001b[0;32m      6\u001b[0m s\u001b[38;5;241m=\u001b[39m\u001b[38;5;124m'\u001b[39m\u001b[38;5;124mNaresh\u001b[39m\u001b[38;5;124m'\u001b[39m\n\u001b[0;32m      7\u001b[0m \u001b[38;5;66;03m# We want to change 'h' 'I'\u001b[39;00m\n\u001b[1;32m----> 8\u001b[0m s[\u001b[38;5;241m5\u001b[39m]\u001b[38;5;241m=\u001b[39m\u001b[38;5;124m'\u001b[39m\u001b[38;5;124mI\u001b[39m\u001b[38;5;124m'\u001b[39m\n",
      "\u001b[1;31mTypeError\u001b[0m: 'str' object does not support item assignment"
     ]
    }
   ],
   "source": [
    "# We want to change 1 with 100\n",
    "l=[1,2,3]\n",
    "l[0]=100\n",
    "l\n",
    "#Hi Sir - how the string is immutable please explain\n",
    "s='Naresh'\n",
    "# We want to change 'h' 'I'\n",
    "s[5]='I'\n",
    "# TypeError: 'str' object does not support item assignment\n",
    "# Not able\n",
    "# that is we can can change only numbers not string or characters"
   ]
  },
  {
   "cell_type": "code",
   "execution_count": 45,
   "id": "5e6c28f0-b1d3-4ddb-adc2-88c835b650ae",
   "metadata": {},
   "outputs": [
    {
     "data": {
      "text/plain": [
       "[1, 2, 3, 500]"
      ]
     },
     "execution_count": 45,
     "metadata": {},
     "output_type": "execute_result"
    }
   ],
   "source": [
    "l1=[1,2,3,4]\n",
    "l1[3]=500\n",
    "l1"
   ]
  },
  {
   "cell_type": "markdown",
   "id": "061942a4-6585-4f6a-b9bb-9ca3253475c0",
   "metadata": {},
   "source": [
    "**List methods**"
   ]
  },
  {
   "cell_type": "code",
   "execution_count": 53,
   "id": "204d0e33-ca12-4c03-b5ee-3bf32450bb40",
   "metadata": {},
   "outputs": [
    {
     "data": {
      "text/plain": [
       "['__add__',\n",
       " '__class__',\n",
       " '__class_getitem__',\n",
       " '__contains__',\n",
       " '__delattr__',\n",
       " '__delitem__',\n",
       " '__dir__',\n",
       " '__doc__',\n",
       " '__eq__',\n",
       " '__format__',\n",
       " '__ge__',\n",
       " '__getattribute__',\n",
       " '__getitem__',\n",
       " '__getstate__',\n",
       " '__gt__',\n",
       " '__hash__',\n",
       " '__iadd__',\n",
       " '__imul__',\n",
       " '__init__',\n",
       " '__init_subclass__',\n",
       " '__iter__',\n",
       " '__le__',\n",
       " '__len__',\n",
       " '__lt__',\n",
       " '__mul__',\n",
       " '__ne__',\n",
       " '__new__',\n",
       " '__reduce__',\n",
       " '__reduce_ex__',\n",
       " '__repr__',\n",
       " '__reversed__',\n",
       " '__rmul__',\n",
       " '__setattr__',\n",
       " '__setitem__',\n",
       " '__sizeof__',\n",
       " '__str__',\n",
       " '__subclasshook__',\n",
       " 'append',\n",
       " 'clear',\n",
       " 'copy',\n",
       " 'count',\n",
       " 'extend',\n",
       " 'index',\n",
       " 'insert',\n",
       " 'pop',\n",
       " 'remove',\n",
       " 'reverse',\n",
       " 'sort']"
      ]
     },
     "execution_count": 53,
     "metadata": {},
     "output_type": "execute_result"
    }
   ],
   "source": [
    "# string dir('')\n",
    "dir([])"
   ]
  },
  {
   "cell_type": "markdown",
   "id": "49e0225d-b2cb-4a95-a8e5-fd4333514b21",
   "metadata": {},
   "source": [
    "**append**"
   ]
  },
  {
   "cell_type": "markdown",
   "id": "6ce7e5f4-2086-4951-a1fa-129e5f14d84b",
   "metadata": {},
   "source": [
    "- adding elements in a list at last index\n",
    "- append method is very important\n",
    "- most of the time we will use append in the real time\n",
    "- when you add the value the original list will be overwrite"
   ]
  },
  {
   "cell_type": "code",
   "execution_count": 54,
   "id": "e6d52501-347b-4cd3-98ac-535de4f31e6f",
   "metadata": {},
   "outputs": [
    {
     "data": {
      "text/plain": [
       "['Apple', 'Ball', 'Cat']"
      ]
     },
     "execution_count": 54,
     "metadata": {},
     "output_type": "execute_result"
    }
   ],
   "source": [
    "l=['Apple','Ball','Cat']\n",
    "l"
   ]
  },
  {
   "cell_type": "code",
   "execution_count": 55,
   "id": "a6967549-12d6-482c-988f-da6d2b2f533e",
   "metadata": {},
   "outputs": [
    {
     "ename": "IndexError",
     "evalue": "list assignment index out of range",
     "output_type": "error",
     "traceback": [
      "\u001b[1;31m---------------------------------------------------------------------------\u001b[0m",
      "\u001b[1;31mIndexError\u001b[0m                                Traceback (most recent call last)",
      "Cell \u001b[1;32mIn[55], line 1\u001b[0m\n\u001b[1;32m----> 1\u001b[0m l[\u001b[38;5;241m3\u001b[39m]\u001b[38;5;241m=\u001b[39m\u001b[38;5;124m'\u001b[39m\u001b[38;5;124mMahek\u001b[39m\u001b[38;5;124m'\u001b[39m\n",
      "\u001b[1;31mIndexError\u001b[0m: list assignment index out of range"
     ]
    }
   ],
   "source": [
    "l[3]='Mahek'"
   ]
  },
  {
   "cell_type": "code",
   "execution_count": 56,
   "id": "698a5547-6b72-4f79-8ead-97c699d5917c",
   "metadata": {},
   "outputs": [
    {
     "data": {
      "text/plain": [
       "['Apple', 'Ball', 'Cat']"
      ]
     },
     "execution_count": 56,
     "metadata": {},
     "output_type": "execute_result"
    }
   ],
   "source": [
    "l=['Apple','Ball','Cat']\n",
    "l"
   ]
  },
  {
   "cell_type": "code",
   "execution_count": 61,
   "id": "3d159888-482a-429e-b531-93e733da60f8",
   "metadata": {},
   "outputs": [
    {
     "data": {
      "text/plain": [
       "['Apple', 'Ball', 'Cat', 'Doll', 'Doll', 'Doll', 'Doll']"
      ]
     },
     "execution_count": 61,
     "metadata": {},
     "output_type": "execute_result"
    }
   ],
   "source": [
    "l.append('Doll')\n",
    "l"
   ]
  },
  {
   "cell_type": "code",
   "execution_count": 62,
   "id": "bb39591b-bcda-46a9-91a2-319cc4cdaaec",
   "metadata": {},
   "outputs": [
    {
     "data": {
      "text/plain": [
       "[1, 2, 3, 4, 100]"
      ]
     },
     "execution_count": 62,
     "metadata": {},
     "output_type": "execute_result"
    }
   ],
   "source": [
    "l1=[1,2,3,4]\n",
    "l1.append(100)\n",
    "l1"
   ]
  },
  {
   "cell_type": "code",
   "execution_count": 63,
   "id": "2275073a-0991-4e1e-97bd-bb92b666698a",
   "metadata": {},
   "outputs": [
    {
     "data": {
      "text/plain": [
       "[10, 20, 'apple', ['A', 1], True]"
      ]
     },
     "execution_count": 63,
     "metadata": {},
     "output_type": "execute_result"
    }
   ],
   "source": [
    "l2=[]\n",
    "l2.append(10)\n",
    "l2.append(20)\n",
    "l2.append('apple')\n",
    "l2.append(['A',1])\n",
    "l2.append(True)\n",
    "l2"
   ]
  },
  {
   "cell_type": "code",
   "execution_count": 65,
   "id": "dba9b9c8-04e5-49c8-b2ae-68520b24db45",
   "metadata": {},
   "outputs": [
    {
     "ename": "TypeError",
     "evalue": "list.append() takes exactly one argument (3 given)",
     "output_type": "error",
     "traceback": [
      "\u001b[1;31m---------------------------------------------------------------------------\u001b[0m",
      "\u001b[1;31mTypeError\u001b[0m                                 Traceback (most recent call last)",
      "Cell \u001b[1;32mIn[65], line 2\u001b[0m\n\u001b[0;32m      1\u001b[0m \u001b[38;5;66;03m# list.append() takes exactly one argument how can we add more in one statement si\u001b[39;00m\n\u001b[1;32m----> 2\u001b[0m l1\u001b[38;5;241m.\u001b[39mappend(\u001b[38;5;241m100\u001b[39m,\u001b[38;5;241m200\u001b[39m,\u001b[38;5;241m300\u001b[39m)\n",
      "\u001b[1;31mTypeError\u001b[0m: list.append() takes exactly one argument (3 given)"
     ]
    }
   ],
   "source": [
    "# list.append() takes exactly one argument how can we add more in one statement si\n",
    "l1.append(100,200,300) # Error"
   ]
  },
  {
   "cell_type": "code",
   "execution_count": 67,
   "id": "afaa0033-1407-489d-a740-49414e50b5d2",
   "metadata": {},
   "outputs": [
    {
     "data": {
      "text/plain": [
       "[1, 4, 9, 16, 25]"
      ]
     },
     "execution_count": 67,
     "metadata": {},
     "output_type": "execute_result"
    }
   ],
   "source": [
    "square_list=[]\n",
    "for i in range(1,6):\n",
    "    square_list.append(i*i)\n",
    "# print===== square_list.append\n",
    "square_list"
   ]
  },
  {
   "cell_type": "code",
   "execution_count": 73,
   "id": "a539eb65-8c31-4952-a64a-e4fb1b57ecc2",
   "metadata": {},
   "outputs": [
    {
     "data": {
      "text/plain": [
       "[1, 5, 9]"
      ]
     },
     "execution_count": 73,
     "metadata": {},
     "output_type": "execute_result"
    }
   ],
   "source": [
    "s='hai hai hai'\n",
    "id_list=[]\n",
    "for i in range (len(s)):\n",
    "    if s[i]=='a':\n",
    "        id_list.append(i)\n",
    "id_list\n"
   ]
  },
  {
   "cell_type": "code",
   "execution_count": 74,
   "id": "1b56c60e-b023-4b25-80f0-18fee1b1bae7",
   "metadata": {},
   "outputs": [
    {
     "data": {
      "text/plain": [
       "([1, 5, 9], 15)"
      ]
     },
     "execution_count": 74,
     "metadata": {},
     "output_type": "execute_result"
    }
   ],
   "source": [
    "s='hai hai hai'\n",
    "id_list=[]\n",
    "for i in range (len(s)):\n",
    "    if s[i]=='a':\n",
    "        id_list.append(i)\n",
    "id_list,sum(id_list)\n"
   ]
  },
  {
   "cell_type": "code",
   "execution_count": 75,
   "id": "a6c6266a-90e2-448e-8e83-3a9b93f395de",
   "metadata": {},
   "outputs": [
    {
     "data": {
      "text/plain": [
       "15"
      ]
     },
     "execution_count": 75,
     "metadata": {},
     "output_type": "execute_result"
    }
   ],
   "source": [
    "summ=0\n",
    "s='hai hai hai'\n",
    "for i in range(len(s)):\n",
    "    if s[i]=='a':\n",
    "        summ=summ+i\n",
    "summ"
   ]
  },
  {
   "cell_type": "code",
   "execution_count": 83,
   "id": "f1c61ac7-ce82-491d-824e-d306dd12c351",
   "metadata": {},
   "outputs": [
    {
     "data": {
      "text/plain": [
       "['Mumbai', 'Chennai']"
      ]
     },
     "execution_count": 83,
     "metadata": {},
     "output_type": "execute_result"
    }
   ],
   "source": [
    "# Q2)l1=['Hyd','Mumbai','Chennai','blr']\n",
    "# ans=['Mumbai','Chennai'] \n",
    "# we want lements which are len of element >4\n",
    "l1=['Hyd','Mumbai','Chennai','blr']\n",
    "ans=[]\n",
    "for i in l1:\n",
    "    if len(i)>4:\n",
    "        ans.append(i)\n",
    "ans\n"
   ]
  },
  {
   "cell_type": "code",
   "execution_count": 86,
   "id": "732715f8-1792-4e53-9303-0ad5e6249670",
   "metadata": {},
   "outputs": [
    {
     "data": {
      "text/plain": [
       "['Mum#bai', 'Chen#nai']"
      ]
     },
     "execution_count": 86,
     "metadata": {},
     "output_type": "execute_result"
    }
   ],
   "source": [
    "# Q3)l1=['Hyd','Mum#bai','Chen#nai','blr']\n",
    "# ans=['Mum#bai'',Chen#nai'] \n",
    "# we want lements which are having '#'\n",
    "\n",
    "l1=['Hyd','Mum#bai','Chen#nai','blr']\n",
    "ans=[]\n",
    "for i in l1:\n",
    "    if '#' in i:\n",
    "        ans.append(i)\n",
    "ans"
   ]
  },
  {
   "cell_type": "code",
   "execution_count": null,
   "id": "f5fd80d8-793f-43f7-a6b7-d5447ba56a97",
   "metadata": {},
   "outputs": [],
   "source": [
    "# Q4)l1=['hyd','mumbai','chennai','blr']\n",
    "# ans= ['Hyd','Mumbai','Chennai','Blr']\n",
    "# we want lements which are len of element >4\n",
    "# Q5)l1=['Hyd','Mumbai','chennai','blr']\n",
    "# ans= ['Hyd','Mumbai']\n",
    "# we want lements which are having first letter capital\n",
    "# Q6)l1=['Hyd','Mum#bai','Chen#nai','blr']\n",
    "# ans_#=['Mum#bai'',Chen#nai'] \n",
    "# ans_without_#=['Hyd'','blr'] \n",
    "# we want lements which are having '#'\n",
    "# Q7) ask the user get 5 numbers randomly\n",
    "# even_list and odd_list\n",
    "# even numbers should append at even_list\n",
    "# odd number should append at odd_list\n",
    "# Q8) str='hello hai how are you'\n",
    "# Maximum len of word using split and max method\n",
    "# sum of all the indexes of the maximum len of word using append\n",
    "# Q9) str1='virat.kohli@rcb.com, Rohit.sharma@mi.co, KL.Rahul@lucknow.com'\n",
    "# Firstname=[] second name=[] cname =[]\n",
    "# append first name should be in first name list\n",
    "# second name shoul be in second name list\n",
    "# thirs name will be in thirs name list\n",
    "# 10 ) \n",
    "# You have two lists\n",
    "# qns=['What is capital of India',\n",
    " 'Who is PM of india',\n",
    " 'Who is ICT ODI captian']\n",
    "# ans = ['Delhi','Modi','Rohit']\n",
    "# For i in qns:\n",
    "# print(i)\n",
    "# ans= delhi\n",
    "# index should match\n",
    "# delhi modi \n",
    "# marks= marks+1\n",
    "# print the total marks"
   ]
  },
  {
   "cell_type": "code",
   "execution_count": 94,
   "id": "3dc69af7-dd18-452a-9444-ede71f353739",
   "metadata": {},
   "outputs": [
    {
     "data": {
      "text/plain": [
       "['Hyd', 'Mumbai', 'Chennai', 'Blr']"
      ]
     },
     "execution_count": 94,
     "metadata": {},
     "output_type": "execute_result"
    }
   ],
   "source": [
    "# Q5)l1=['Hyd','Mumbai','chennai','blr']\n",
    "# ans= ['Hyd','Mumbai']\n",
    "# we want lements which are having first letter capital\n",
    "\n",
    "l1=['Hyd','Mumbai','chennai','blr']\n",
    "ans=[]\n",
    "for i in l1:\n",
    "    ans.append(i.capitalize())\n",
    "ans\n"
   ]
  },
  {
   "cell_type": "code",
   "execution_count": 103,
   "id": "698996e5-bedd-4c3d-8cd7-a034ff6acfd4",
   "metadata": {},
   "outputs": [
    {
     "data": {
      "text/plain": [
       "['Hyd', 'Mumbai']"
      ]
     },
     "execution_count": 103,
     "metadata": {},
     "output_type": "execute_result"
    }
   ],
   "source": [
    "l1=['Hyd','Mumbai','chennai','blr']\n",
    "ans=[]\n",
    "for i in l1:\n",
    "    if ord(i[0])>40 and ord(i[0])<90:\n",
    "       ans.append(i)\n",
    "ans"
   ]
  },
  {
   "cell_type": "code",
   "execution_count": 110,
   "id": "514f02b3-2cc2-4603-a86e-005e203e3eb6",
   "metadata": {},
   "outputs": [
    {
     "data": {
      "text/plain": [
       "(['Mum#bai', 'Chen#nai'], ['Hyd', 'blr'])"
      ]
     },
     "execution_count": 110,
     "metadata": {},
     "output_type": "execute_result"
    }
   ],
   "source": [
    "# Q6)l1=['Hyd','Mum#bai','Chen#nai','blr']\n",
    "# ans_#=['Mum#bai'',Chen#nai'] \n",
    "# ans_without_#=['Hyd'','blr'] \n",
    "\n",
    "l1=['Hyd','Mum#bai','Chen#nai','blr']\n",
    "ans=[]\n",
    "ans1=[]\n",
    "for i in l1:\n",
    "    if '#' in i:\n",
    "        ans.append(i)\n",
    "    else:\n",
    "        ans1.append(i)\n",
    "ans,ans1"
   ]
  },
  {
   "cell_type": "code",
   "execution_count": 149,
   "id": "a8b41357-b00e-40f4-a471-aaf4092e1d6f",
   "metadata": {},
   "outputs": [
    {
     "name": "stdout",
     "output_type": "stream",
     "text": [
      "hello\n"
     ]
    }
   ],
   "source": [
    "# Q8) str='hello hai how are you'\n",
    "# Maximum len of word using split and max method\n",
    "# sum of all the indexes of the maximum len of word using appe\n",
    "\n",
    "s='hello hai how are you'\n",
    "words=s.split()\n",
    "len_words=[]\n",
    "for i in words:\n",
    "    x=len(i)\n",
    "    len_words.append(x)\n",
    "max_len=max(len_words)\n",
    "for i in words:\n",
    "    if len(i)==max_len:\n",
    "        print(i)\n"
   ]
  },
  {
   "cell_type": "code",
   "execution_count": 124,
   "id": "44c7759a-9185-4e36-8b9a-4f74a7a981ee",
   "metadata": {},
   "outputs": [
    {
     "data": {
      "text/plain": [
       "([2, 4], [1, 3, 5])"
      ]
     },
     "execution_count": 124,
     "metadata": {},
     "output_type": "execute_result"
    }
   ],
   "source": [
    "# Q7) ask the user get 5 numbers randomly\n",
    "# even_list and odd_list\n",
    "# even numbers should append at even_list\n",
    "# odd number should append at odd_list\n",
    "\n",
    "import random\n",
    "l1=random.randint(1,10)\n",
    "even=[]\n",
    "odd=[]\n",
    "for i in range(1,6):\n",
    " if i%2==0:\n",
    "    even.append(i)\n",
    " else:\n",
    "     odd.append(i)\n",
    "even,odd"
   ]
  },
  {
   "cell_type": "code",
   "execution_count": 135,
   "id": "5da6a2f0-0c72-4272-afb0-fceb2dd7ac7d",
   "metadata": {},
   "outputs": [
    {
     "data": {
      "text/plain": [
       "'Hello Im Learning Python'"
      ]
     },
     "execution_count": 135,
     "metadata": {},
     "output_type": "execute_result"
    }
   ],
   "source": [
    "s='hello im learning python'\n",
    "# make everyword capitalize\n",
    "s.title()"
   ]
  },
  {
   "cell_type": "code",
   "execution_count": 53,
   "id": "66838b0a-131c-43fd-951c-93a6db060b3f",
   "metadata": {},
   "outputs": [
    {
     "data": {
      "text/plain": [
       "(['virat', ' Rohit', ' KL'],\n",
       " ['kohli', 'sharma', 'Rahul'],\n",
       " ['rcb', 'mi', 'lucknow'])"
      ]
     },
     "execution_count": 53,
     "metadata": {},
     "output_type": "execute_result"
    }
   ],
   "source": [
    "# Q9) str1='virat.kohli@rcb.com, Rohit.sharma@mi.co, KL.Rahul@lucknow.com'\n",
    "# Firstname=[] second name=[] cname =[]\n",
    "# append first name should be in first name list\n",
    "# second name shoul be in second name list\n",
    "# thirs name will be in thirs name list\n",
    "s=['virat.kohli@rcb.com, Rohit.sharma@mi.co, KL.Rahul@lucknow.com']\n",
    "email=s[0].split(',')\n",
    "\n",
    "Firstname=[]\n",
    "secondname=[]\n",
    "cname =[]\n",
    "for i in email:\n",
    "    i1=i.index('.')\n",
    "    i2=i.index('@')\n",
    "    i3=i.index('.',i1+1)\n",
    "    Firstname.append(i[:i1])\n",
    "    secondname.append(i[i1+1:i2])\n",
    "    cname.append(i[i2+1:i3])\n",
    "    \n",
    "Firstname,secondname,cname"
   ]
  },
  {
   "cell_type": "markdown",
   "id": "36fb42c6-e978-4903-b5f1-a430ca368ddf",
   "metadata": {},
   "source": [
    "**Split-join**\n"
   ]
  },
  {
   "cell_type": "markdown",
   "id": "69986767-3be7-444f-abd9-972d1007cb79",
   "metadata": {},
   "source": [
    "- split will apply for strings, to divide the words or characters\n",
    "- when we split the elements will be stored in a list format\n",
    "-  join is used to combine the elements of a list in a string format\n",
    "- **split-strings**\n",
    "- **join-list**"
   ]
  },
  {
   "cell_type": "code",
   "execution_count": 139,
   "id": "05dfb059-7ac4-4c50-aa45-2d2116eeac8b",
   "metadata": {},
   "outputs": [
    {
     "data": {
      "text/plain": [
       "['hello', 'im', 'learning', 'python']"
      ]
     },
     "execution_count": 139,
     "metadata": {},
     "output_type": "execute_result"
    }
   ],
   "source": [
    "s='hello im learning python'\n",
    "words=s.split()\n",
    "words"
   ]
  },
  {
   "cell_type": "code",
   "execution_count": 138,
   "id": "33602080-0bcd-4bb6-8e64-0733c53aa1cf",
   "metadata": {},
   "outputs": [
    {
     "data": {
      "text/plain": [
       "'Hello Im Learning Python'"
      ]
     },
     "execution_count": 138,
     "metadata": {},
     "output_type": "execute_result"
    }
   ],
   "source": [
    "s='hello im learning python'\n",
    "words=s.split()\n",
    "new_words=[]\n",
    "for i in words:\n",
    "    new_words.append(i.capitalize())\n",
    "' '.join(new_words)\n",
    "    "
   ]
  },
  {
   "cell_type": "code",
   "execution_count": 65,
   "id": "aa040c4b-c057-46fb-9470-4551ced6315d",
   "metadata": {},
   "outputs": [
    {
     "name": "stdin",
     "output_type": "stream",
     "text": [
      "What is capital of India delhi\n",
      "Who is PM of india modi\n",
      "Who is ICT ODI captian virat\n"
     ]
    },
    {
     "data": {
      "text/plain": [
       "2"
      ]
     },
     "execution_count": 65,
     "metadata": {},
     "output_type": "execute_result"
    }
   ],
   "source": [
    "# 10 ) \n",
    "# You have two lists\n",
    "# qns=['What is capital of India',3'Who is PM of india',\n",
    " #'Who is ICT ODI captian']\n",
    "# ans = ['Delhi','Modi','Rohit']\n",
    "# For i in qns:\n",
    "# print(i)\n",
    "# ans= delhi\n",
    "# index should match\n",
    "# delhi modi \n",
    "# marks= marks+1\n",
    "# print the total marks\n",
    "qns_list=['What is capital of India',\n",
    " 'Who is PM of india',\n",
    " 'Who is ICT ODI captian']\n",
    "ans_list= ['Delhi','Modi','Rohit']\n",
    "marks=0\n",
    "for i in range(len(qns_list)):\n",
    "    ans=input(qns_list[i])\n",
    "    if ans.lower()==ans_list[i].lower():\n",
    "     marks=marks+1\n",
    "marks\n"
   ]
  },
  {
   "cell_type": "code",
   "execution_count": 49,
   "id": "0c99dc3a-334b-457b-96b9-69e57a4104fc",
   "metadata": {},
   "outputs": [
    {
     "data": {
      "text/plain": [
       "['A', 'CAT', 3, 4]"
      ]
     },
     "execution_count": 49,
     "metadata": {},
     "output_type": "execute_result"
    }
   ],
   "source": [
    "l1=['A','B',3,4]\n",
    "l1[1]='CAT'\n",
    "l1"
   ]
  },
  {
   "cell_type": "code",
   "execution_count": 52,
   "id": "4d29d14e-12fb-4087-b109-db854c347929",
   "metadata": {},
   "outputs": [
    {
     "data": {
      "text/plain": [
       "[1, 2, 3, 'Apple', 200, 'Cat']"
      ]
     },
     "execution_count": 52,
     "metadata": {},
     "output_type": "execute_result"
    }
   ],
   "source": [
    "l4=[1,2,3,'Apple','Ball','Cat']\n",
    "l4[4]=200\n",
    "l4"
   ]
  },
  {
   "cell_type": "markdown",
   "id": "623d4081-4a12-4c65-b2fa-f518d91f005f",
   "metadata": {},
   "source": [
    "**copy**"
   ]
  },
  {
   "cell_type": "code",
   "execution_count": 66,
   "id": "b5a8c244-18bf-43fc-9db3-55ab7976524d",
   "metadata": {},
   "outputs": [
    {
     "data": {
      "text/plain": [
       "[1, 2, 3, 100, 200, 80, 70, 60]"
      ]
     },
     "execution_count": 66,
     "metadata": {},
     "output_type": "execute_result"
    }
   ],
   "source": [
    "l1=[1,2,3,100,200,80,70,60]\n",
    "l2=l1.copy()\n",
    "l2"
   ]
  },
  {
   "cell_type": "code",
   "execution_count": 67,
   "id": "5d62c26f-4947-4e26-8045-29aa4a3d3869",
   "metadata": {},
   "outputs": [
    {
     "data": {
      "text/plain": [
       "([1, 2, 3, 100, 200, 80, 70, 60], [1, 2, 3, 100, 200, 80, 70, 60])"
      ]
     },
     "execution_count": 67,
     "metadata": {},
     "output_type": "execute_result"
    }
   ],
   "source": [
    "l1,l2"
   ]
  },
  {
   "cell_type": "markdown",
   "id": "5b15bc18-c86e-4077-983c-11112b9d5c36",
   "metadata": {},
   "source": [
    "**clear**"
   ]
  },
  {
   "cell_type": "code",
   "execution_count": 68,
   "id": "3349983a-f9e5-4e85-a592-d6fa3b2e86ea",
   "metadata": {},
   "outputs": [
    {
     "data": {
      "text/plain": [
       "[]"
      ]
     },
     "execution_count": 68,
     "metadata": {},
     "output_type": "execute_result"
    }
   ],
   "source": [
    "l1.clear()\n",
    "l1"
   ]
  },
  {
   "cell_type": "code",
   "execution_count": 69,
   "id": "f1999f5e-59bf-41ea-a3df-e4c5467cf5db",
   "metadata": {},
   "outputs": [
    {
     "data": {
      "text/plain": [
       "[1, 2, 3, 100, 200, 80, 70, 60]"
      ]
     },
     "execution_count": 69,
     "metadata": {},
     "output_type": "execute_result"
    }
   ],
   "source": [
    "l2"
   ]
  },
  {
   "cell_type": "code",
   "execution_count": 70,
   "id": "c8101f04-eeb4-4499-9c49-cc11c3c59f08",
   "metadata": {},
   "outputs": [
    {
     "data": {
      "text/plain": [
       "([], [1, 2, 3, 100, 200, 80, 70, 60])"
      ]
     },
     "execution_count": 70,
     "metadata": {},
     "output_type": "execute_result"
    }
   ],
   "source": [
    "l1,l2"
   ]
  },
  {
   "cell_type": "code",
   "execution_count": 73,
   "id": "37b2333a-d131-445e-8e7b-c418aa65ff49",
   "metadata": {},
   "outputs": [
    {
     "name": "stdout",
     "output_type": "stream",
     "text": [
      "<class 'list'>\n"
     ]
    }
   ],
   "source": [
    "print(type([]))"
   ]
  },
  {
   "cell_type": "markdown",
   "id": "9b016de4-4d9b-406d-99f2-1b676f0be1fe",
   "metadata": {},
   "source": [
    "**append-extend-concatenation-insert**"
   ]
  },
  {
   "cell_type": "code",
   "execution_count": 75,
   "id": "b7111bdf-dac5-41fa-ac9d-bd628301c297",
   "metadata": {},
   "outputs": [
    {
     "name": "stdout",
     "output_type": "stream",
     "text": [
      "[1, 2, 3, 4, ['A', 'B', 'C', 'D']]\n",
      "['A', 'B', 'C', 'D']\n"
     ]
    }
   ],
   "source": [
    "l1=[1,2,3,4]\n",
    "l2=['A','B','C','D']\n",
    "l1.append(l2)\n",
    "print(l1)\n",
    "print(l2)\n",
    "\n",
    "# l1 list is overwrite with l2 values"
   ]
  },
  {
   "cell_type": "code",
   "execution_count": 78,
   "id": "34593d38-e18f-42c3-b76b-4bd72fceff3a",
   "metadata": {},
   "outputs": [
    {
     "name": "stdout",
     "output_type": "stream",
     "text": [
      "[1, 2, 3, 4]\n",
      "['A', 'B', 'C', 'D', 1, 2, 3, 4]\n"
     ]
    }
   ],
   "source": [
    "l1=[1,2,3,4]\n",
    "l2=['A','B','C','D']\n",
    "l2.extend(l1)\n",
    "print(l1)\n",
    "print(l2)"
   ]
  },
  {
   "cell_type": "markdown",
   "id": "0d7262ca-c431-4c74-a431-4eef90998e5a",
   "metadata": {},
   "source": [
    "**NOTE**"
   ]
  },
  {
   "cell_type": "markdown",
   "id": "052424ce-1d1d-407e-88b8-8cfb56db2365",
   "metadata": {},
   "source": [
    "- append add content with brackets\n",
    "- extend add content without bracket that is they extend the contents"
   ]
  },
  {
   "cell_type": "code",
   "execution_count": 79,
   "id": "91eab43a-6e9f-4fce-94c7-bf90702d34ac",
   "metadata": {},
   "outputs": [
    {
     "name": "stdout",
     "output_type": "stream",
     "text": [
      "[1, 2, 3, 4, 'A', 'B', 'C', 'D']\n",
      "['A', 'B', 'C', 'D', 1, 2, 3, 4]\n",
      "[1, 2, 3, 4]\n",
      "['A', 'B', 'C', 'D']\n"
     ]
    }
   ],
   "source": [
    "l1=[1,2,3,4]\n",
    "l2=['A','B','C','D']\n",
    "print(l1+l2)\n",
    "print(l2+l1)\n",
    "print(l1)\n",
    "print(l2)"
   ]
  },
  {
   "cell_type": "code",
   "execution_count": 80,
   "id": "ed6a61f9-7acf-4ca0-a0f5-b27c4196b7d4",
   "metadata": {},
   "outputs": [
    {
     "data": {
      "text/plain": [
       "[1, 2, 3, 4, 'a', 'p', 'p', 'l', 'e']"
      ]
     },
     "execution_count": 80,
     "metadata": {},
     "output_type": "execute_result"
    }
   ],
   "source": [
    "l1=[1,2,3,4]\n",
    "l1.extend('apple')\n",
    "l1"
   ]
  },
  {
   "cell_type": "code",
   "execution_count": 81,
   "id": "5d77469b-3ba5-4551-a13f-3d5d77824e28",
   "metadata": {},
   "outputs": [
    {
     "data": {
      "text/plain": [
       "[1, 2, 3, 4, 'apple']"
      ]
     },
     "execution_count": 81,
     "metadata": {},
     "output_type": "execute_result"
    }
   ],
   "source": [
    "l1=[1,2,3,4]\n",
    "l1.append('apple')\n",
    "l1"
   ]
  },
  {
   "cell_type": "code",
   "execution_count": 82,
   "id": "df91e61d-49f9-4747-9433-900cea369cb9",
   "metadata": {},
   "outputs": [
    {
     "data": {
      "text/plain": [
       "[1, 2, 3, 4, 'apple']"
      ]
     },
     "execution_count": 82,
     "metadata": {},
     "output_type": "execute_result"
    }
   ],
   "source": [
    "l1=[1,2,3,4]\n",
    "l2=['apple']\n",
    "l1+l2"
   ]
  },
  {
   "cell_type": "markdown",
   "id": "e9f7a755-4f81-404f-bfa6-59e55f3977ab",
   "metadata": {},
   "source": [
    "- append just append the value with base data type\n",
    "-- extend is concatenate the value, and the list will be overwrite with new values\n",
    "- extend can take any iterable format type i.e. string,list,tuple\n",
    "- extend and concatenation both are same\n",
    "- the list will not overwrite in concatenation"
   ]
  },
  {
   "cell_type": "markdown",
   "id": "0fc9486a-4227-4b6c-90f5-63bebae14f3c",
   "metadata": {},
   "source": [
    "**index**"
   ]
  },
  {
   "cell_type": "markdown",
   "id": "0aad3d8e-ee4d-429e-a97d-c44ff9c83d48",
   "metadata": {},
   "source": [
    "- same like string only"
   ]
  },
  {
   "cell_type": "code",
   "execution_count": 88,
   "id": "dc9b6865-250b-432f-8052-860ae1895155",
   "metadata": {},
   "outputs": [
    {
     "data": {
      "text/plain": [
       "(6, 3)"
      ]
     },
     "execution_count": 88,
     "metadata": {},
     "output_type": "execute_result"
    }
   ],
   "source": [
    "l1=[1,2,3,'Apple',10,20,'Apple',40]\n",
    "i1=l1.index('Apple')\n",
    "i1\n",
    "i2=l1.index('Apple',i1+1)\n",
    "i2,i1"
   ]
  },
  {
   "cell_type": "code",
   "execution_count": 89,
   "id": "d7144194-8f93-4225-9537-62a220438673",
   "metadata": {},
   "outputs": [
    {
     "data": {
      "text/plain": [
       "6"
      ]
     },
     "execution_count": 89,
     "metadata": {},
     "output_type": "execute_result"
    }
   ],
   "source": [
    "l1.index('Apple',l1.index('Apple')+1)"
   ]
  },
  {
   "cell_type": "code",
   "execution_count": 91,
   "id": "5cc672d3-a422-4931-8a3c-7eb7a7724db7",
   "metadata": {},
   "outputs": [
    {
     "name": "stdout",
     "output_type": "stream",
     "text": [
      "3\n"
     ]
    }
   ],
   "source": [
    "l1=[1, 2, 3,'Apple', 10, 20, 'Apple', 40]\n",
    "#   0  1  2   3       4   5     6    7\n",
    "i1=l1.index('Apple') # Case-1\n",
    "i2=l1.index('Apple',i1+1) # Case-2\n",
    "i3=l1.index('Apple',2,5) # Case-3\n",
    "print(i3)\n",
    "# If i want second 'Apple'\n",
    "# from which index my eyes will start"
   ]
  },
  {
   "cell_type": "markdown",
   "id": "76faa3f9-71df-4c06-9506-2247627a5280",
   "metadata": {},
   "source": [
    "- case-1: Directly get the index\n",
    "- case-2: Next value index, by providing start\n",
    "- case-3: Between the values\n",
    "- Copy/clear\n",
    "- Append/Extend/Concatenation\n",
    "- Index\n",
    "- There is no find in list\n",
    "- count is exactly same as strings"
   ]
  },
  {
   "cell_type": "markdown",
   "id": "d939a905-c463-49ae-8a9a-3f62320d4da9",
   "metadata": {},
   "source": [
    "**INsert**"
   ]
  },
  {
   "cell_type": "markdown",
   "id": "93096654-88ce-45ac-969c-c6bd6d324058",
   "metadata": {},
   "source": [
    "- insert will insert element based on the index\n",
    "- append will add element at last only"
   ]
  },
  {
   "cell_type": "code",
   "execution_count": 92,
   "id": "ea795205-4f1d-43c8-b840-be1edd6449b1",
   "metadata": {},
   "outputs": [
    {
     "data": {
      "text/plain": [
       "[1, 2, 3, 'Banana', 'Apple', 10, 20, 'Apple', 40]"
      ]
     },
     "execution_count": 92,
     "metadata": {},
     "output_type": "execute_result"
    }
   ],
   "source": [
    "l1=[1, 2, 3,'Apple', 10, 20, 'Apple', 40]\n",
    "#   0 1   2   3      4   5     6     7\n",
    "i1=l1.index('Apple') # Apple index = 3\n",
    "l1.insert(i1,'Banana') # insert banana before index i1(3)\n",
    "l1"
   ]
  },
  {
   "cell_type": "code",
   "execution_count": 93,
   "id": "af46bea6-f258-4e5c-a20e-7f5c99007de1",
   "metadata": {},
   "outputs": [
    {
     "data": {
      "text/plain": [
       "[1, 2, 3, 'Apple', 10, 20, 'Banana', 'Apple', 40]"
      ]
     },
     "execution_count": 93,
     "metadata": {},
     "output_type": "execute_result"
    }
   ],
   "source": [
    "l1=[1, 2, 3,'Apple', 10, 20, 'Apple', 40]\n",
    "#   0 1   2   3      4   5     6     7\n",
    "i1=l1.index('Apple') # Apple index = 3\n",
    "i2=l1.index('Apple',i1+1) \n",
    "l1.insert(i2,'Banana') # insert banana before index i1(3)\n",
    "l1"
   ]
  },
  {
   "cell_type": "code",
   "execution_count": 95,
   "id": "e13b5921-7a5e-4f02-b148-c13c152b206b",
   "metadata": {},
   "outputs": [
    {
     "data": {
      "text/plain": [
       "[1, 2, 3, 'Apple', 10, 20, 'Apple', 'cherry', 40]"
      ]
     },
     "execution_count": 95,
     "metadata": {},
     "output_type": "execute_result"
    }
   ],
   "source": [
    "l1=[1, 2, 3,'Apple', 10, 20, 'Apple', 40]\n",
    "# Insert 'Cherry' before 40 \n",
    "# You need to find index of the 40\n",
    "i1=l1.index(40)\n",
    "l1.insert(i1,'cherry')\n",
    "l1"
   ]
  },
  {
   "cell_type": "code",
   "execution_count": 96,
   "id": "ab9bf047-8295-4c24-9548-fdec438e72fd",
   "metadata": {},
   "outputs": [
    {
     "data": {
      "text/plain": [
       "[1, 2, 3, 'Apple', 10, 20, 'Cherry', 'Apple', 40]"
      ]
     },
     "execution_count": 96,
     "metadata": {},
     "output_type": "execute_result"
    }
   ],
   "source": [
    "#If we want to add cherry before 2nd apple then how ?\n",
    "l1=[1, 2, 3,'Apple', 10, 20, 'Apple', 40]\n",
    "# step-1: we want to find the index of 2nd 'APPLE'\n",
    "# Step-2: How to find the second 'Apple' index\n",
    "i1=l1.index('Apple')\n",
    "i2=l1.index('Apple',i1+1)\n",
    "l1.insert(6,'Cherry')\n",
    "l1"
   ]
  },
  {
   "cell_type": "markdown",
   "id": "f115dc6f-d7fd-44b3-bf99-8b2fc0bf7b34",
   "metadata": {},
   "source": [
    "**pop-remove-del**\n",
    "- pop will remove the item\n",
    "- pop also display the item which is removing\n",
    "- pop will take one argument:index\n",
    "- pop will remove the item based on index\n",
    "- if you dont provide any index, by default it will remove last value\n",
    "- because the default index value is -1"
   ]
  },
  {
   "cell_type": "code",
   "execution_count": 99,
   "id": "017742ea-b170-4027-ab02-1165db818e2c",
   "metadata": {},
   "outputs": [
    {
     "data": {
      "text/plain": [
       "[1, 2, 3, 'Apple', 10, 20, 'Apple']"
      ]
     },
     "execution_count": 99,
     "metadata": {},
     "output_type": "execute_result"
    }
   ],
   "source": [
    "l1=[1, 2, 3,'Apple', 10, 20, 'Apple', 40]\n",
    "l1.pop()\n",
    "l1"
   ]
  },
  {
   "cell_type": "code",
   "execution_count": 100,
   "id": "d8df5e30-5ea1-4031-bb5f-45b5c83415b4",
   "metadata": {},
   "outputs": [
    {
     "data": {
      "text/plain": [
       "40"
      ]
     },
     "execution_count": 100,
     "metadata": {},
     "output_type": "execute_result"
    }
   ],
   "source": [
    "l1=[1, 2, 3,'Apple', 10, 20, 'Apple', 40]\n",
    "l1.pop()\n"
   ]
  },
  {
   "cell_type": "code",
   "execution_count": 101,
   "id": "a962b14f-a840-457c-a3de-98b5324542df",
   "metadata": {},
   "outputs": [
    {
     "data": {
      "text/plain": [
       "[1, 2, 3, 10, 20, 'Apple', 40]"
      ]
     },
     "execution_count": 101,
     "metadata": {},
     "output_type": "execute_result"
    }
   ],
   "source": [
    "l1=[1, 2, 3,'Apple', 10, 20, 'Apple', 40]\n",
    "l1.pop(3)\n",
    "l1"
   ]
  },
  {
   "cell_type": "code",
   "execution_count": 102,
   "id": "949979ed-0be1-4981-b091-2a1216f39424",
   "metadata": {},
   "outputs": [
    {
     "data": {
      "text/plain": [
       "'Apple'"
      ]
     },
     "execution_count": 102,
     "metadata": {},
     "output_type": "execute_result"
    }
   ],
   "source": [
    "l1=[1, 2, 3,'Apple', 10, 20, 'Apple', 40]\n",
    "l1.pop(3)\n"
   ]
  },
  {
   "cell_type": "code",
   "execution_count": 104,
   "id": "18136a46-4e27-4eb0-a7ff-b03da9b906ca",
   "metadata": {},
   "outputs": [
    {
     "data": {
      "text/plain": [
       "[1, 2, 3, 'Apple', 10, 20, 40]"
      ]
     },
     "execution_count": 104,
     "metadata": {},
     "output_type": "execute_result"
    }
   ],
   "source": [
    "l1=[1, 2, 3,'Apple', 10, 20, 'Apple', 40]\n",
    "i1=l1.index('Apple')\n",
    "i2=l1.index('Apple',i1+1)\n",
    "l1.pop(i2)\n",
    "l1"
   ]
  },
  {
   "cell_type": "code",
   "execution_count": 105,
   "id": "dbd583a8-e8b4-4f75-8738-200a30802caa",
   "metadata": {},
   "outputs": [
    {
     "data": {
      "text/plain": [
       "[1, 2, 3, 10, 20, 40]"
      ]
     },
     "execution_count": 105,
     "metadata": {},
     "output_type": "execute_result"
    }
   ],
   "source": [
    "l1=[1, 2, 3,'Apple', 10, 20, 'Apple', 40]\n",
    "i1=l1.index('Apple') #3\n",
    "l1.pop(i1) # l1=[1, 2, 3,10, 20, 'Apple', 40]\n",
    "###############################################################\n",
    "i1=l1.index('Apple')\n",
    "l1.pop(i1)\n",
    "l1"
   ]
  },
  {
   "cell_type": "code",
   "execution_count": 10,
   "id": "b2c33799-c934-4a89-a1ad-333ca7f56383",
   "metadata": {},
   "outputs": [
    {
     "data": {
      "text/plain": [
       "'hai how are you thank you'"
      ]
     },
     "execution_count": 10,
     "metadata": {},
     "output_type": "execute_result"
    }
   ],
   "source": [
    "s='hai apple how are you apple thank you apple'\n",
    "list1=s.split()\n",
    "count=list1.count('apple')\n",
    "for i in range(count):\n",
    "    i1=list1.index('apple')\n",
    "    list1.pop(i1)\n",
    "' '.join(list1)"
   ]
  },
  {
   "cell_type": "markdown",
   "id": "40b609a1-a4b6-4a83-9ab0-22245f822dc4",
   "metadata": {},
   "source": [
    "**del**"
   ]
  },
  {
   "cell_type": "code",
   "execution_count": 15,
   "id": "1f36773b-43ad-424e-b98f-fd35888211ac",
   "metadata": {},
   "outputs": [
    {
     "data": {
      "text/plain": [
       "[1, 2, 3, 10, 20, 'Apple', 40]"
      ]
     },
     "execution_count": 15,
     "metadata": {},
     "output_type": "execute_result"
    }
   ],
   "source": [
    "l1=[1, 2, 3,'Apple', 10, 20, 'Apple', 40]\n",
    "del(l1[3])\n",
    "l1"
   ]
  },
  {
   "cell_type": "code",
   "execution_count": 13,
   "id": "5a5c4cc3-588f-4d8d-82ea-a6795adbf3ba",
   "metadata": {},
   "outputs": [
    {
     "data": {
      "text/plain": [
       "2"
      ]
     },
     "execution_count": 13,
     "metadata": {},
     "output_type": "execute_result"
    }
   ],
   "source": [
    "l=[1,2,3,4,5]\n",
    "l.insert(3)"
   ]
  },
  {
   "cell_type": "code",
   "execution_count": null,
   "id": "a9a02cec-5994-44ba-9a1a-1fc706a72b11",
   "metadata": {},
   "outputs": [],
   "source": [
    "extending concatenation imp interview que"
   ]
  },
  {
   "cell_type": "code",
   "execution_count": 18,
   "id": "f3879ec4-4c5f-4dd4-9ee7-ce1cb404dab8",
   "metadata": {},
   "outputs": [
    {
     "data": {
      "text/plain": [
       "[1, 2, 3, 4, 'a', 'p', 'p', 'l', 'e']"
      ]
     },
     "execution_count": 18,
     "metadata": {},
     "output_type": "execute_result"
    }
   ],
   "source": [
    "l=[1,2,3,4]\n",
    "l.extend('apple')\n",
    "l"
   ]
  },
  {
   "cell_type": "code",
   "execution_count": 21,
   "id": "6bcfcda3-45e2-44ab-93c8-04a4ea2904d1",
   "metadata": {},
   "outputs": [
    {
     "data": {
      "text/plain": [
       "[1, 2, 3, 4, 'apple']"
      ]
     },
     "execution_count": 21,
     "metadata": {},
     "output_type": "execute_result"
    }
   ],
   "source": [
    "l=[1,2,3,4]\n",
    "l.extend(['apple'])\n",
    "l"
   ]
  },
  {
   "cell_type": "code",
   "execution_count": 22,
   "id": "0a35f4bc-c4e6-4f8d-8706-e8656a867f9f",
   "metadata": {},
   "outputs": [
    {
     "data": {
      "text/plain": [
       "[1, 2, 3, 4, '[', 'a', 'p', 'p', 'l', 'e', ']']"
      ]
     },
     "execution_count": 22,
     "metadata": {},
     "output_type": "execute_result"
    }
   ],
   "source": [
    "l=[1,2,3,4]\n",
    "l.extend('[apple]')\n",
    "l"
   ]
  },
  {
   "cell_type": "code",
   "execution_count": 27,
   "id": "2d27e362-8eb5-441e-89ec-fd7bd666276c",
   "metadata": {},
   "outputs": [
    {
     "data": {
      "text/plain": [
       "[1, 2, 'apple', 3, 4]"
      ]
     },
     "execution_count": 27,
     "metadata": {},
     "output_type": "execute_result"
    }
   ],
   "source": [
    "l=[1,2,3,4]\n",
    "l.insert(2,'apple')\n",
    "l"
   ]
  },
  {
   "cell_type": "code",
   "execution_count": null,
   "id": "dffaaed4-2d32-4779-aec4-a0c8268bb58f",
   "metadata": {},
   "outputs": [],
   "source": [
    "l.pop()\n"
   ]
  },
  {
   "cell_type": "code",
   "execution_count": 2,
   "id": "8fb399e3-e62e-47e7-8051-543f13ef8fc8",
   "metadata": {},
   "outputs": [
    {
     "data": {
      "text/plain": [
       "[1, 2, 3, 'cherry', 'apple']"
      ]
     },
     "execution_count": 2,
     "metadata": {},
     "output_type": "execute_result"
    }
   ],
   "source": [
    "l1=[1,2,3,'apple']\n",
    "i1=l1.index('apple')\n",
    "l1.insert(i1,'cherry')\n",
    "l1"
   ]
  },
  {
   "cell_type": "code",
   "execution_count": 19,
   "id": "2bd1c10f-7500-44a3-aba0-7ec673c71051",
   "metadata": {},
   "outputs": [
    {
     "ename": "AttributeError",
     "evalue": "'str' object has no attribute 'pop'",
     "output_type": "error",
     "traceback": [
      "\u001b[1;31m---------------------------------------------------------------------------\u001b[0m",
      "\u001b[1;31mAttributeError\u001b[0m                            Traceback (most recent call last)",
      "Cell \u001b[1;32mIn[19], line 3\u001b[0m\n\u001b[0;32m      1\u001b[0m s\u001b[38;5;241m=\u001b[39m\u001b[38;5;124m'\u001b[39m\u001b[38;5;124mhai apple how are you apple im good apple thank you apple\u001b[39m\u001b[38;5;124m'\u001b[39m\n\u001b[0;32m      2\u001b[0m i1\u001b[38;5;241m=\u001b[39ms\u001b[38;5;241m.\u001b[39mindex(\u001b[38;5;124m'\u001b[39m\u001b[38;5;124mapple\u001b[39m\u001b[38;5;124m'\u001b[39m)\n\u001b[1;32m----> 3\u001b[0m s\u001b[38;5;241m.\u001b[39mpop(i1)\n\u001b[0;32m      4\u001b[0m s\n",
      "\u001b[1;31mAttributeError\u001b[0m: 'str' object has no attribute 'pop'"
     ]
    }
   ],
   "source": [
    "s='hai apple how are you apple im good apple thank you apple'\n",
    "i1=s.index('apple')\n",
    "s.pop(i1)\n",
    "s"
   ]
  },
  {
   "cell_type": "code",
   "execution_count": 2,
   "id": "7636b92e-7974-4f42-ba1e-819f96ed8e42",
   "metadata": {},
   "outputs": [
    {
     "ename": "AttributeError",
     "evalue": "'list' object has no attribute 'upper'",
     "output_type": "error",
     "traceback": [
      "\u001b[1;31m---------------------------------------------------------------------------\u001b[0m",
      "\u001b[1;31mAttributeError\u001b[0m                            Traceback (most recent call last)",
      "Cell \u001b[1;32mIn[2], line 2\u001b[0m\n\u001b[0;32m      1\u001b[0m l1\u001b[38;5;241m=\u001b[39m[\u001b[38;5;124m'\u001b[39m\u001b[38;5;124mhyd\u001b[39m\u001b[38;5;124m'\u001b[39m,\u001b[38;5;124m'\u001b[39m\u001b[38;5;124mmumbai\u001b[39m\u001b[38;5;124m'\u001b[39m,\u001b[38;5;124m'\u001b[39m\u001b[38;5;124mchennai\u001b[39m\u001b[38;5;124m'\u001b[39m]\n\u001b[1;32m----> 2\u001b[0m l1\u001b[38;5;241m.\u001b[39mupper\n\u001b[0;32m      3\u001b[0m l1\n",
      "\u001b[1;31mAttributeError\u001b[0m: 'list' object has no attribute 'upper'"
     ]
    }
   ],
   "source": [
    "l1=['hyd','mumbai','chennai','blr']\n",
    "l1.upper\n",
    "l1"
   ]
  },
  {
   "cell_type": "code",
   "execution_count": 4,
   "id": "9c4f6d62-18ba-437c-8498-67afcf122959",
   "metadata": {},
   "outputs": [
    {
     "ename": "SyntaxError",
     "evalue": "invalid syntax (3038473680.py, line 2)",
     "output_type": "error",
     "traceback": [
      "\u001b[1;36m  Cell \u001b[1;32mIn[4], line 2\u001b[1;36m\u001b[0m\n\u001b[1;33m    index_list[]\u001b[0m\n\u001b[1;37m               ^\u001b[0m\n\u001b[1;31mSyntaxError\u001b[0m\u001b[1;31m:\u001b[0m invalid syntax\n"
     ]
    }
   ],
   "source": [
    "l1=['hyd','mumbai','chennai','blr']\n",
    "index_list[]\n",
    "for i in l1:\n",
    "    index_list.append(i.index())\n",
    "index_list"
   ]
  },
  {
   "cell_type": "code",
   "execution_count": 5,
   "id": "92c1401d-60da-431d-9ee4-69a6ddee67ad",
   "metadata": {},
   "outputs": [
    {
     "ename": "SyntaxError",
     "evalue": "invalid syntax (3259298451.py, line 2)",
     "output_type": "error",
     "traceback": [
      "\u001b[1;36m  Cell \u001b[1;32mIn[5], line 2\u001b[1;36m\u001b[0m\n\u001b[1;33m    index_list=[i.index() for in l1]\u001b[0m\n\u001b[1;37m                              ^\u001b[0m\n\u001b[1;31mSyntaxError\u001b[0m\u001b[1;31m:\u001b[0m invalid syntax\n"
     ]
    }
   ],
   "source": [
    "l1=['hyd','mumbai','chennai','blr']\n",
    "index_list=[i.index() for in l1]\n",
    "index_list"
   ]
  },
  {
   "cell_type": "code",
   "execution_count": null,
   "id": "85f3666f-75ed-479a-839f-edd98e8478a7",
   "metadata": {},
   "outputs": [],
   "source": [
    "op_list\n"
   ]
  },
  {
   "cell_type": "code",
   "execution_count": null,
   "id": "26a6f037-a51a-49eb-b899-466b2dc20957",
   "metadata": {},
   "outputs": [],
   "source": []
  },
  {
   "cell_type": "code",
   "execution_count": null,
   "id": "67eef390-84e5-44da-83b8-1c5e7b883c02",
   "metadata": {},
   "outputs": [],
   "source": []
  },
  {
   "cell_type": "code",
   "execution_count": null,
   "id": "b2b0522f-9b07-477e-bc54-5032fd4863e8",
   "metadata": {},
   "outputs": [],
   "source": []
  },
  {
   "cell_type": "code",
   "execution_count": null,
   "id": "ff782d89-4710-4575-ad76-4cccc26093b5",
   "metadata": {},
   "outputs": [],
   "source": []
  },
  {
   "cell_type": "code",
   "execution_count": null,
   "id": "cd71a1ad-3a60-47e6-ac59-9d54c3d60d4c",
   "metadata": {},
   "outputs": [],
   "source": []
  },
  {
   "cell_type": "code",
   "execution_count": null,
   "id": "d7898eb5-eee6-44ba-b8fd-79c66df35fe3",
   "metadata": {},
   "outputs": [],
   "source": []
  }
 ],
 "metadata": {
  "kernelspec": {
   "display_name": "Python 3 (ipykernel)",
   "language": "python",
   "name": "python3"
  },
  "language_info": {
   "codemirror_mode": {
    "name": "ipython",
    "version": 3
   },
   "file_extension": ".py",
   "mimetype": "text/x-python",
   "name": "python",
   "nbconvert_exporter": "python",
   "pygments_lexer": "ipython3",
   "version": "3.11.7"
  }
 },
 "nbformat": 4,
 "nbformat_minor": 5
}
